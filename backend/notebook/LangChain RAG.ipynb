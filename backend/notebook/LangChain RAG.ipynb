{
 "cells": [
  {
   "cell_type": "markdown",
   "id": "294adb38-48bb-4a8a-a517-f370df35ef3d",
   "metadata": {},
   "source": [
    "# Importing Libraries"
   ]
  },
  {
   "cell_type": "code",
   "execution_count": 18,
   "id": "2f18acbc-6b58-4073-b088-69bf9a73d709",
   "metadata": {},
   "outputs": [],
   "source": [
    "# updated version\n",
    "from time import time\n",
    "import torch\n",
    "from langchain_community.llms import Ollama\n",
    "from langchain_community.document_loaders import PyPDFLoader\n",
    "from langchain.text_splitter import RecursiveCharacterTextSplitter\n",
    "from langchain_huggingface import HuggingFaceEmbeddings\n",
    "from langchain.chains import RetrievalQA\n",
    "from langchain_community.vectorstores import Chroma\n",
    "\n",
    "import warnings\n",
    "warnings.filterwarnings('ignore')\n"
   ]
  },
  {
   "cell_type": "code",
   "execution_count": 11,
   "id": "3409f1bf-1079-4ded-998d-e7adf196fbdb",
   "metadata": {},
   "outputs": [],
   "source": [
    "llm = Ollama(model=\"llama3\")"
   ]
  },
  {
   "cell_type": "code",
   "execution_count": 12,
   "id": "b14d21bb-5809-4f92-a0fa-d290ab8d55de",
   "metadata": {},
   "outputs": [],
   "source": [
    "# Function to test the Ollama model directly\n",
    "def test_model_ollama(model, message):\n",
    "    \"\"\"\n",
    "    Perform a query with the Ollama model and print the result\n",
    "    Args:\n",
    "        model: The Ollama model\n",
    "        message: The prompt\n",
    "    Returns:\n",
    "        str: Question and Answer\n",
    "    \"\"\"    \n",
    "    time_start = time()\n",
    "    response = model.invoke(message)\n",
    "    time_end = time()\n",
    "    total_time = f\"{round(time_end-time_start, 3)} sec.\"\n",
    "    \n",
    "    return f\"Question: {message}\\nAnswer: {response}\\nTotal time: {total_time}\""
   ]
  },
  {
   "cell_type": "code",
   "execution_count": 13,
   "id": "b9d29a18-c9a1-41f0-8a86-af741e7d9c7e",
   "metadata": {},
   "outputs": [],
   "source": [
    "# Test the model query pipeline\n",
    "from IPython.display import display, Markdown\n",
    "\n",
    "def colorize_text(text):\n",
    "    for word, color in zip([\"Reasoning\", \"Question\", \"Answer\", \"Total time\"], [\"blue\", \"red\", \"green\", \"magenta\"]):\n",
    "        text = text.replace(f\"{word}:\", f\"\\n\\n**<font color='{color}'>{word}:</font>**\")\n",
    "    return text"
   ]
  },
  {
   "cell_type": "code",
   "execution_count": 14,
   "id": "c1a6ff9b-8738-4459-a305-d53bcc67c146",
   "metadata": {
    "scrolled": true
   },
   "outputs": [
    {
     "data": {
      "text/markdown": [
       "\n",
       "\n",
       "**<font color='red'>Question:</font>** Please explain what is EU AI Act.\n",
       "\n",
       "\n",
       "**<font color='green'>Answer:</font>** The European Union (EU) Artificial Intelligence (AI) Act, also known as the \"Artificial Intelligence Act\" or \"AI Act\", is a proposed legislation aimed at regulating and promoting the development of Artificial Intelligence in the EU. The act aims to ensure that AI systems are trustworthy, transparent, and safe for society.\n",
       "\n",
       "Here are some key aspects of the EU AI Act:\n",
       "\n",
       "**Objectives:**\n",
       "\n",
       "1. **Trustworthiness**: Ensure that AI systems are reliable, transparent, and free from biases.\n",
       "2. **Safety**: Prevent AI systems from causing harm or damage to individuals or society.\n",
       "3. **Transparency**: Encourage the development of explainable AI (XAI) and ensure that users understand how AI decisions are made.\n",
       "\n",
       "**Scope:**\n",
       "\n",
       "1. The act applies to AI systems used in various sectors, including healthcare, finance, education, transportation, and more.\n",
       "2. It covers both high-risk and low-risk AI applications.\n",
       "\n",
       "**Key Provisions:**\n",
       "\n",
       "1. **Risk-based approach**: The act proposes a risk-based approach to regulate AI systems, considering factors like the potential harm they may cause or the level of human oversight required.\n",
       "2. **High-Risk Systems**: For high-risk AI applications (e.g., healthcare, transportation), strict rules and guidelines will be established for development, testing, and deployment.\n",
       "3. **Low-Risk Systems**: For low-risk AI applications (e.g., games, entertainment), a lighter regulatory framework will apply, focusing on transparency and accountability.\n",
       "4. **Explainability**: The act encourages the development of explainable AI (XAI) to ensure that users understand how AI decisions are made.\n",
       "5. **Ethics Guidelines**: The EU AI Act will provide ethical guidelines for AI developers, emphasizing values like fairness, transparency, and non-discrimination.\n",
       "\n",
       "**Implementation:**\n",
       "\n",
       "1. The EU AI Act is expected to be implemented through a combination of binding regulations, guidelines, and best practices.\n",
       "2. A dedicated AI authority will be established to oversee the implementation and enforcement of the act.\n",
       "\n",
       "The European Union AI Act aims to strike a balance between promoting innovation in AI development and ensuring that these systems are safe, transparent, and trustworthy for society. The proposed legislation has been subject to public consultation and is expected to be finalized in 2022-2023.\n",
       "\n",
       "Would you like me to elaborate on any specific aspect of the EU AI Act?\n",
       "\n",
       "\n",
       "**<font color='magenta'>Total time:</font>** 131.633 sec."
      ],
      "text/plain": [
       "<IPython.core.display.Markdown object>"
      ]
     },
     "metadata": {},
     "output_type": "display_data"
    }
   ],
   "source": [
    "# Test model with some queries\n",
    "response = test_model_ollama(llm, \"Please explain what is EU AI Act.\")\n",
    "display(Markdown(colorize_text(response)))"
   ]
  },
  {
   "cell_type": "code",
   "execution_count": 16,
   "id": "3268c7fe-95ad-43f8-8faa-ed3395dd97cb",
   "metadata": {},
   "outputs": [],
   "source": [
    "# Data ingestion using PDF loader\n",
    "loader = PyPDFLoader(\"pdf/Physics Classes 9-10.pdf\")\n",
    "documents = loader.load()\n",
    "#print(documents)"
   ]
  },
  {
   "cell_type": "code",
   "execution_count": 19,
   "id": "259c8996-1cc5-4481-a807-d1cb0afcdf33",
   "metadata": {},
   "outputs": [],
   "source": [
    "text_splitter = RecursiveCharacterTextSplitter(chunk_size=1000, chunk_overlap=100)\n",
    "all_splits = text_splitter.split_documents(documents)\n",
    "#print(all_splits)"
   ]
  },
  {
   "cell_type": "code",
   "execution_count": 20,
   "id": "4dada10c-1212-4e65-bb47-33035a3d5d83",
   "metadata": {},
   "outputs": [
    {
     "name": "stderr",
     "output_type": "stream",
     "text": [
      "2024-09-16 16:39:30.793773: E external/local_xla/xla/stream_executor/cuda/cuda_fft.cc:485] Unable to register cuFFT factory: Attempting to register factory for plugin cuFFT when one has already been registered\n",
      "2024-09-16 16:39:30.896634: E external/local_xla/xla/stream_executor/cuda/cuda_dnn.cc:8454] Unable to register cuDNN factory: Attempting to register factory for plugin cuDNN when one has already been registered\n",
      "2024-09-16 16:39:30.926101: E external/local_xla/xla/stream_executor/cuda/cuda_blas.cc:1452] Unable to register cuBLAS factory: Attempting to register factory for plugin cuBLAS when one has already been registered\n",
      "2024-09-16 16:39:31.094475: I tensorflow/core/platform/cpu_feature_guard.cc:210] This TensorFlow binary is optimized to use available CPU instructions in performance-critical operations.\n",
      "To enable the following instructions: AVX2 FMA, in other operations, rebuild TensorFlow with the appropriate compiler flags.\n",
      "2024-09-16 16:39:32.824533: W tensorflow/compiler/tf2tensorrt/utils/py_utils.cc:38] TF-TRT Warning: Could not find TensorRT\n"
     ]
    },
    {
     "name": "stdout",
     "output_type": "stream",
     "text": [
      "Using device: cpu\n"
     ]
    }
   ],
   "source": [
    "device = \"cuda\" if torch.cuda.is_available() else \"cpu\"\n",
    "model_name = \"sentence-transformers/all-mpnet-base-v2\"\n",
    "model_kwargs = { \"device\": device }\n",
    "\n",
    "embeddings = HuggingFaceEmbeddings(\n",
    "    model_name=model_name,\n",
    "    model_kwargs=model_kwargs\n",
    ")\n",
    "\n",
    "print(f\"Using device: {device}\")"
   ]
  },
  {
   "cell_type": "code",
   "execution_count": 21,
   "id": "636ecde7-949b-46be-9deb-9437976753ce",
   "metadata": {},
   "outputs": [
    {
     "name": "stdout",
     "output_type": "stream",
     "text": [
      "client=SentenceTransformer(\n",
      "  (0): Transformer({'max_seq_length': 384, 'do_lower_case': False}) with Transformer model: MPNetModel \n",
      "  (1): Pooling({'word_embedding_dimension': 768, 'pooling_mode_cls_token': False, 'pooling_mode_mean_tokens': True, 'pooling_mode_max_tokens': False, 'pooling_mode_mean_sqrt_len_tokens': False, 'pooling_mode_weightedmean_tokens': False, 'pooling_mode_lasttoken': False, 'include_prompt': True})\n",
      "  (2): Normalize()\n",
      ") model_name='sentence-transformers/all-mpnet-base-v2' cache_folder=None model_kwargs={'device': 'cpu'} encode_kwargs={} multi_process=False show_progress=False\n"
     ]
    }
   ],
   "source": [
    "print(embeddings)"
   ]
  },
  {
   "cell_type": "code",
   "execution_count": 22,
   "id": "dcc0769c-0d13-4386-b061-c5944f48d687",
   "metadata": {},
   "outputs": [],
   "source": [
    "vectordb = Chroma.from_documents(\n",
    "    documents=all_splits, \n",
    "    embedding=embeddings, persist_directory=\"chroma_db\"\n",
    ")"
   ]
  },
  {
   "cell_type": "code",
   "execution_count": 23,
   "id": "84fbb683-2cd7-480c-a1b0-b33be128885a",
   "metadata": {},
   "outputs": [],
   "source": [
    "retriever = vectordb.as_retriever()\n",
    "qa = RetrievalQA.from_chain_type(\n",
    "    llm=llm, \n",
    "    chain_type=\"stuff\", \n",
    "    retriever=retriever, verbose=True\n",
    ")"
   ]
  },
  {
   "cell_type": "code",
   "execution_count": 24,
   "id": "706d06da-6cc0-4101-b9b3-c4424f419906",
   "metadata": {},
   "outputs": [
    {
     "name": "stdout",
     "output_type": "stream",
     "text": [
      "\n",
      "\n",
      "\u001b[1m> Entering new RetrievalQA chain...\u001b[0m\n",
      "\n",
      "\u001b[1m> Finished chain.\u001b[0m\n",
      "Question: What is force?\n",
      "Answer: According to Newton's first law of motion, a force is \"that which acting on a body\" - in other words, an external cause that changes or tends to change the state of an object.\n",
      "Total time: 94.074 sec.\n"
     ]
    }
   ],
   "source": [
    "def test_rag(qa, query):\n",
    "    time_start = time()\n",
    "    response = qa.run(query)\n",
    "    time_end = time()\n",
    "    total_time = f\"{round(time_end-time_start, 3)} sec.\"\n",
    "    full_response =  f\"Question: {query}\\nAnswer: {response}\\nTotal time: {total_time}\"\n",
    "    print(full_response)\n",
    "\n",
    "query = \"What is force?\"\n",
    "test_rag(qa, query)"
   ]
  },
  {
   "cell_type": "code",
   "execution_count": 25,
   "id": "218463e5-f7bd-4fa7-bf8f-0234fff244a0",
   "metadata": {},
   "outputs": [
    {
     "name": "stdout",
     "output_type": "stream",
     "text": [
      "\n",
      "\n",
      "\u001b[1m> Entering new RetrievalQA chain...\u001b[0m\n",
      "\n",
      "\u001b[1m> Finished chain.\u001b[0m\n",
      "Question: explain me briefly about the electricity formulas\n",
      "Answer: Based on the provided context, I'll try to help you with that.\n",
      "\n",
      "From what we've covered so far:\n",
      "\n",
      "1. **Work done (Energy spent)**: WV Q = VQ joule, where V is the potential difference and Q is the amount of charge.\n",
      "2. **Electric current**: QIt = (or QI t) = I t (current I flowing through conductor for time t).\n",
      "3. **Electric power**: Power = Work done = 1WV I t = WV I t Joule, where W is the electric power.\n",
      "\n",
      "Using Ohm's law, we can express the relationship between electric potential difference (V), current (I), and resistance (R) as:\n",
      "\n",
      "WV I t = VQ = 2 (or 3.33 in this specific example)\n",
      "\n",
      "These formulas should give you a brief overview of electricity basics!\n",
      "Total time: 120.019 sec.\n"
     ]
    }
   ],
   "source": [
    "query = \"explain me briefly about the electricity formulas\"\n",
    "test_rag(qa, query)"
   ]
  },
  {
   "cell_type": "code",
   "execution_count": 26,
   "id": "467435c2-d4de-4619-921b-fb2fb0c0168b",
   "metadata": {},
   "outputs": [
    {
     "name": "stdout",
     "output_type": "stream",
     "text": [
      "Query: explain me briefly about the electricity formulas\n",
      "Retrieved documents: 4\n",
      "Source:  pdf/Physics Classes 9-10.pdf\n",
      "Text:  coulomb charge flows through the conductor, the amount of work done =  VQ joule. \n",
      "Therefore, energy spent or the amount of energy converted is                                                          \n",
      "WV Q=  \n",
      "Again, electric current,                   QIt=  \n",
      "                                                   or, QI t= \n",
      "                                                 ∴  WV I t=                                (11.11) \n",
      "Using ohm’s law this relationship can be expressed as below, \n",
      "                             ∴    2\n",
      "2 VWV I tI R t tR== =   Joule                       (11.12) \n",
      "Electric power \n",
      "The electric appliances which we use in houses or in offices are generally marked with \n",
      "the voltage by which it runs and the electric power in watt. We know the rate of work \n",
      "done or the rate of energy conversion is called power. Therefore, the rate at which energy is converted into other forms in an electric device is its power.  \n",
      "                           Therefore, power = Work done \n",
      "\n",
      "Source:  pdf/Physics Classes 9-10.pdf\n",
      "Text:  Physics  189 \n",
      "                   = 1 21\n",
      "10−+Ω \n",
      "                   =1 3\n",
      "10−Ω \n",
      "              RP = 3.33 Ω  \n",
      "Answer: RS = 15 Ω  and RP = 3.33 Ω  \n",
      "11.12 Electric power \n",
      "When a potential difference is applied betw een the two terminals of a conductor, an \n",
      "electric current is set up. Due to this, work is  done and the electrons acquire energy. This \n",
      "electrical energy may be transformed into different forms of energy (e.g.- heat, light, \n",
      "mechanical energy etc.) according to the nature of the circuit.  \n",
      " \n",
      "Figure 11.13 \n",
      "Say, AB is a conductor of resistance R and Q amount of charge is flowing through it. \n",
      "The potential difference between the points A and B is V. We know, if the potential \n",
      "difference between the two terminals of a conductor is 1 volt and 1 coulomb charge flows through it, then the amount of work done or energy spent is 1joule.  Now, if Q \n",
      "coulomb charge flows through the conductor, the amount of work done =  VQ joule. \n",
      "\n",
      "Source:  pdf/Physics Classes 9-10.pdf\n",
      "Text:  electricity will be discussed.] \n",
      "By the end of this chapter we will be able to- 1. Demonstrate production of current electricity from static electricity. \n",
      "2. Explain the direction of electric current and flow of electrons. \n",
      "3. Draw the circuit by using the symbols of electric devices and appliances. \n",
      "4. Explain conductor, insulator and semiconductor. \n",
      "5. Establish a relationship between electric current and potential difference by using \n",
      "graph. \n",
      "6. Explain fixed resistance and variable resistance. \n",
      "7. Explain electromotive force and potential difference. \n",
      "8. Explain dependence of resistance. \n",
      "9. Explain resistivity and conductivity. \n",
      "10. Use series and parallel circuit. \n",
      "11. Use an equivalent resistance in a circuit. \n",
      "12.  Calculate electric power in a circuit. \n",
      "13. Explain system loss and load shedding in a circuit. \n",
      "14. Describe the safe and effective use of electricity. \n",
      "15. Draw a typical house circuit and demonstrate the use of ac sources in its different \n",
      "parts. \n",
      "\n",
      "Source:  pdf/Physics Classes 9-10.pdf\n",
      "Text:  Physics  175 \n",
      "Chapter eleven \n",
      "CURRENT ELECTRICITY \n",
      " \n",
      "[We rely on electricity in different areas of our daily lives. Most of the modern \n",
      "instruments and equipments are run by electricity. We have come to depend so much on electricity that it is difficult to imagine what would be life without electricity. In the \n",
      "previous chapter we have discussed about static electricity. In this chapter different \n",
      "quantities related to current electricity e.g. electric current, resistance, electromotive force and potential difference will be described. In addition, the direction of electricity, \n",
      "conductor, insulator and semiconductor, electric circuit, Ohm’s law, fixed and variable \n",
      "resistance, dependence of resistance, series and parallel combination of resistance, electric power, system loss of electricity and load shedding, safe and effective use of \n",
      "electricity will be discussed.] \n",
      "\n"
     ]
    }
   ],
   "source": [
    "# Retrieve the document sources for the query\n",
    "docs = vectordb.similarity_search(query)\n",
    "print(f\"Query: {query}\")\n",
    "print(f\"Retrieved documents: {len(docs)}\")\n",
    "for doc in docs:\n",
    "    doc_details = doc.to_json()['kwargs']\n",
    "    print(\"Source: \", doc_details['metadata']['source'])\n",
    "    print(\"Text: \", doc_details['page_content'], \"\\n\")"
   ]
  },
  {
   "cell_type": "code",
   "execution_count": null,
   "id": "bf8231ab-acbc-43b3-82f9-b8d8ff9a7452",
   "metadata": {},
   "outputs": [],
   "source": []
  }
 ],
 "metadata": {
  "kernelspec": {
   "display_name": "Python 3 (ipykernel)",
   "language": "python",
   "name": "python3"
  },
  "language_info": {
   "codemirror_mode": {
    "name": "ipython",
    "version": 3
   },
   "file_extension": ".py",
   "mimetype": "text/x-python",
   "name": "python",
   "nbconvert_exporter": "python",
   "pygments_lexer": "ipython3",
   "version": "3.12.3"
  }
 },
 "nbformat": 4,
 "nbformat_minor": 5
}
