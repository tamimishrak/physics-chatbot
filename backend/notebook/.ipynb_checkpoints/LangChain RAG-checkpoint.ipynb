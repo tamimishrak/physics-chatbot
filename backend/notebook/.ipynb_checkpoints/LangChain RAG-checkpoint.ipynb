{
 "cells": [
  {
   "cell_type": "markdown",
   "id": "294adb38-48bb-4a8a-a517-f370df35ef3d",
   "metadata": {},
   "source": [
    "# Importing Libraries"
   ]
  },
  {
   "cell_type": "code",
   "execution_count": 1,
   "id": "2f18acbc-6b58-4073-b088-69bf9a73d709",
   "metadata": {},
   "outputs": [],
   "source": [
    "# updated version\n",
    "from time import time\n",
    "import torch\n",
    "from langchain_community.llms import Ollama\n",
    "from langchain_community.document_loaders import PyPDFLoader\n",
    "from langchain.text_splitter import RecursiveCharacterTextSplitter\n",
    "from langchain_huggingface import HuggingFaceEmbeddings\n",
    "from langchain_core.output_parsers import StrOutputParser\n",
    "from langchain_core.runnables import RunnablePassthrough\n",
    "from langchain_community.vectorstores import Chroma\n",
    "\n",
    "import warnings\n",
    "warnings.filterwarnings('ignore')\n"
   ]
  },
  {
   "cell_type": "markdown",
   "id": "7f342791-2318-438f-9cd4-ed54737f1904",
   "metadata": {},
   "source": [
    "# Getting the llama3"
   ]
  },
  {
   "cell_type": "code",
   "execution_count": 3,
   "id": "3409f1bf-1079-4ded-998d-e7adf196fbdb",
   "metadata": {},
   "outputs": [],
   "source": [
    "llm = Ollama(model=\"llama3\")"
   ]
  },
  {
   "cell_type": "markdown",
   "id": "e3bb10d1-86fe-4ca8-bd18-ef8eac151d2d",
   "metadata": {},
   "source": [
    "# Data Ingestion"
   ]
  },
  {
   "cell_type": "code",
   "execution_count": 4,
   "id": "3268c7fe-95ad-43f8-8faa-ed3395dd97cb",
   "metadata": {},
   "outputs": [],
   "source": [
    "# Data ingestion using PDF loader\n",
    "loader = PyPDFLoader(\"pdf/Physics Classes 9-10.pdf\")\n",
    "documents = loader.load()\n",
    "#print(documents)"
   ]
  },
  {
   "cell_type": "code",
   "execution_count": 5,
   "id": "259c8996-1cc5-4481-a807-d1cb0afcdf33",
   "metadata": {},
   "outputs": [],
   "source": [
    "text_splitter = RecursiveCharacterTextSplitter(chunk_size=1000, chunk_overlap=100)\n",
    "all_splits = text_splitter.split_documents(documents)\n",
    "#print(all_splits)"
   ]
  },
  {
   "cell_type": "code",
   "execution_count": 6,
   "id": "4dada10c-1212-4e65-bb47-33035a3d5d83",
   "metadata": {},
   "outputs": [
    {
     "name": "stderr",
     "output_type": "stream",
     "text": [
      "2024-09-18 19:33:07.055521: E external/local_xla/xla/stream_executor/cuda/cuda_fft.cc:485] Unable to register cuFFT factory: Attempting to register factory for plugin cuFFT when one has already been registered\n",
      "2024-09-18 19:33:07.151601: E external/local_xla/xla/stream_executor/cuda/cuda_dnn.cc:8454] Unable to register cuDNN factory: Attempting to register factory for plugin cuDNN when one has already been registered\n",
      "2024-09-18 19:33:07.174483: E external/local_xla/xla/stream_executor/cuda/cuda_blas.cc:1452] Unable to register cuBLAS factory: Attempting to register factory for plugin cuBLAS when one has already been registered\n",
      "2024-09-18 19:33:07.316788: I tensorflow/core/platform/cpu_feature_guard.cc:210] This TensorFlow binary is optimized to use available CPU instructions in performance-critical operations.\n",
      "To enable the following instructions: AVX2 FMA, in other operations, rebuild TensorFlow with the appropriate compiler flags.\n",
      "2024-09-18 19:33:08.533521: W tensorflow/compiler/tf2tensorrt/utils/py_utils.cc:38] TF-TRT Warning: Could not find TensorRT\n"
     ]
    },
    {
     "name": "stdout",
     "output_type": "stream",
     "text": [
      "Using device: cpu\n"
     ]
    }
   ],
   "source": [
    "device = \"cuda\" if torch.cuda.is_available() else \"cpu\"\n",
    "model_name = \"sentence-transformers/all-mpnet-base-v2\"\n",
    "model_kwargs = { \"device\": device }\n",
    "\n",
    "embeddings = HuggingFaceEmbeddings(\n",
    "    model_name=model_name,\n",
    "    model_kwargs=model_kwargs\n",
    ")\n",
    "\n",
    "print(f\"Using device: {device}\")"
   ]
  },
  {
   "cell_type": "code",
   "execution_count": 7,
   "id": "636ecde7-949b-46be-9deb-9437976753ce",
   "metadata": {},
   "outputs": [
    {
     "name": "stdout",
     "output_type": "stream",
     "text": [
      "client=SentenceTransformer(\n",
      "  (0): Transformer({'max_seq_length': 384, 'do_lower_case': False}) with Transformer model: MPNetModel \n",
      "  (1): Pooling({'word_embedding_dimension': 768, 'pooling_mode_cls_token': False, 'pooling_mode_mean_tokens': True, 'pooling_mode_max_tokens': False, 'pooling_mode_mean_sqrt_len_tokens': False, 'pooling_mode_weightedmean_tokens': False, 'pooling_mode_lasttoken': False, 'include_prompt': True})\n",
      "  (2): Normalize()\n",
      ") model_name='sentence-transformers/all-mpnet-base-v2' cache_folder=None model_kwargs={'device': 'cpu'} encode_kwargs={} multi_process=False show_progress=False\n"
     ]
    }
   ],
   "source": [
    "print(embeddings)"
   ]
  },
  {
   "cell_type": "code",
   "execution_count": 8,
   "id": "dcc0769c-0d13-4386-b061-c5944f48d687",
   "metadata": {},
   "outputs": [],
   "source": [
    "vectordb = Chroma.from_documents(\n",
    "    documents=all_splits, \n",
    "    embedding=embeddings, persist_directory=\"chroma_db\"\n",
    ")"
   ]
  },
  {
   "cell_type": "markdown",
   "id": "d8aa2124-60c3-4184-9228-0d548b1d11a5",
   "metadata": {},
   "source": [
    "# Retrieval"
   ]
  },
  {
   "cell_type": "code",
   "execution_count": 16,
   "id": "84fbb683-2cd7-480c-a1b0-b33be128885a",
   "metadata": {},
   "outputs": [],
   "source": [
    "retriever = vectordb.as_retriever(\n",
    "    search_type=\"similarity_score_threshold\", \n",
    "    search_kwargs={\"score_threshold\": 0.4}\n",
    ")"
   ]
  },
  {
   "cell_type": "code",
   "execution_count": 17,
   "id": "706d06da-6cc0-4101-b9b3-c4424f419906",
   "metadata": {},
   "outputs": [
    {
     "data": {
      "text/plain": [
       "4"
      ]
     },
     "execution_count": 17,
     "metadata": {},
     "output_type": "execute_result"
    }
   ],
   "source": [
    "retrieved_docs = retriever.invoke(\"What is force?\")\n",
    "len(retrieved_docs)"
   ]
  },
  {
   "cell_type": "code",
   "execution_count": 18,
   "id": "218463e5-f7bd-4fa7-bf8f-0234fff244a0",
   "metadata": {},
   "outputs": [
    {
     "name": "stdout",
     "output_type": "stream",
     "text": [
      "Docs: law of motion. Newton’s first law of motion is- \n",
      "‘Every object will continue in its state of rest or of uniform motion in a straight line \n",
      "unless an external force is applied to it.’ \n",
      "Newton’s first law expresses the property of inertia of matter. From Newton’s first law of motion we observe that a body cannot change its state on its \n",
      "own. If the body is at rest, it tends to remain at rest forever and if it is in motion it tends to keep on motion with uniform speed for all time. This property of a body is termed as \n",
      "inertia. Thus from the Newton’s first law of motion we get the concept of inertia. \n",
      "Again from Newton’s first law we see that to change the state of a body something \n",
      "external must be applied. That is, the external cause which changes or tends to change \n",
      "the state of an object is called force. Thus from Newton’s first law we get qualitative definition of force. According to Newton’s first law, a force is that which acting on a\n",
      "\n",
      "\n",
      "Docs: law of motion. Newton’s first law of motion is- \n",
      "‘Every object will continue in its state of rest or of uniform motion in a straight line \n",
      "unless an external force is applied to it.’ \n",
      "Newton’s first law expresses the property of inertia of matter. From Newton’s first law of motion we observe that a body cannot change its state on its \n",
      "own. If the body is at rest, it tends to remain at rest forever and if it is in motion it tends to keep on motion with uniform speed for all time. This property of a body is termed as \n",
      "inertia. Thus from the Newton’s first law of motion we get the concept of inertia. \n",
      "Again from Newton’s first law we see that to change the state of a body something \n",
      "external must be applied. That is, the external cause which changes or tends to change \n",
      "the state of an object is called force. Thus from Newton’s first law we get qualitative definition of force. According to Newton’s first law, a force is that which acting on a\n",
      "\n",
      "\n",
      "Docs: Physics  51 \n",
      "3.2 Nature of force \n",
      "Contact force: \n",
      "We are familiar with different types of force in our daily lives. Nature of them is of \n",
      "different types. Some of them are produced due to direct contact between two bodies.  In addition, there are some forces which do not need direct contact between two bodies. \n",
      "The force which needs direct contact between two bodies to be created is defined as \n",
      "contact force. When we push or pull a body with hand our hand exerts a force on the body at that time. This push or pull force is  contact force. Since this force is the \n",
      "consequence of the direct contact between the hand and the body. The examples of \n",
      "contact forces are- frictional force, pulling force and the force created during collision.  \n",
      "When a body tends to move or move over another body, then a resistive frictional force\n",
      "\n",
      "\n",
      "Docs: Physics  51 \n",
      "3.2 Nature of force \n",
      "Contact force: \n",
      "We are familiar with different types of force in our daily lives. Nature of them is of \n",
      "different types. Some of them are produced due to direct contact between two bodies.  In addition, there are some forces which do not need direct contact between two bodies. \n",
      "The force which needs direct contact between two bodies to be created is defined as \n",
      "contact force. When we push or pull a body with hand our hand exerts a force on the body at that time. This push or pull force is  contact force. Since this force is the \n",
      "consequence of the direct contact between the hand and the body. The examples of \n",
      "contact forces are- frictional force, pulling force and the force created during collision.  \n",
      "When a body tends to move or move over another body, then a resistive frictional force\n",
      "\n",
      "\n"
     ]
    }
   ],
   "source": [
    "for doc in retrieved_docs:\n",
    "    print(f\"Docs: {doc.page_content}\")\n",
    "    print(\"\\n\")"
   ]
  },
  {
   "cell_type": "markdown",
   "id": "8dd97f18-5306-41b7-be0a-1d94967e2634",
   "metadata": {},
   "source": [
    "# Text Generation "
   ]
  },
  {
   "cell_type": "code",
   "execution_count": 19,
   "id": "bf8231ab-acbc-43b3-82f9-b8d8ff9a7452",
   "metadata": {},
   "outputs": [],
   "source": [
    "from langchain import hub\n",
    "\n",
    "prompt = hub.pull(\"rlm/rag-prompt\")"
   ]
  },
  {
   "cell_type": "code",
   "execution_count": 20,
   "id": "f31536d6-af06-4d66-bbf3-b816e4446776",
   "metadata": {},
   "outputs": [
    {
     "data": {
      "text/plain": [
       "[HumanMessage(content=\"You are an assistant for question-answering tasks. Use the following pieces of retrieved context to answer the question. If you don't know the answer, just say that you don't know. Use three sentences maximum and keep the answer concise.\\nQuestion: filler question \\nContext: filler context \\nAnswer:\")]"
      ]
     },
     "execution_count": 20,
     "metadata": {},
     "output_type": "execute_result"
    }
   ],
   "source": [
    "example_messages = prompt.invoke(\n",
    "    {\"context\": \"filler context\", \"question\": \"filler question\"}\n",
    ").to_messages()\n",
    "example_messages"
   ]
  },
  {
   "cell_type": "code",
   "execution_count": 21,
   "id": "ba5f561e-f439-4147-a227-a14f1b84bf74",
   "metadata": {},
   "outputs": [],
   "source": [
    "def format_docs(docs):\n",
    "    return \"\\n\\n\".join(doc.page_content for doc in docs)\n",
    "\n",
    "\n",
    "rag_chain = (\n",
    "    {\"context\": retriever | format_docs, \"question\": RunnablePassthrough()}\n",
    "    | prompt\n",
    "    | llm\n",
    "    | StrOutputParser()\n",
    ")"
   ]
  },
  {
   "cell_type": "code",
   "execution_count": 22,
   "id": "8e04fdf9-ccba-4c71-a468-0003779e27c9",
   "metadata": {},
   "outputs": [
    {
     "data": {
      "text/plain": [
       "\"According to Newton's first law of motion, a force is an external cause that changes or tends to change the state of an object. In other words, it's something that acts on a body and causes its state (rest or motion) to be altered.\""
      ]
     },
     "execution_count": 22,
     "metadata": {},
     "output_type": "execute_result"
    }
   ],
   "source": [
    "rag_chain.invoke(\"What is force?\")"
   ]
  }
 ],
 "metadata": {
  "kernelspec": {
   "display_name": "Python 3 (ipykernel)",
   "language": "python",
   "name": "python3"
  },
  "language_info": {
   "codemirror_mode": {
    "name": "ipython",
    "version": 3
   },
   "file_extension": ".py",
   "mimetype": "text/x-python",
   "name": "python",
   "nbconvert_exporter": "python",
   "pygments_lexer": "ipython3",
   "version": "3.12.3"
  }
 },
 "nbformat": 4,
 "nbformat_minor": 5
}
