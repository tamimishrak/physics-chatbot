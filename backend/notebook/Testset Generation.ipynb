{
 "cells": [
  {
   "cell_type": "code",
   "execution_count": 8,
   "id": "71414f71-cd4b-4cdb-9ad1-69626f0e22b9",
   "metadata": {},
   "outputs": [],
   "source": [
    "from langchain_community.llms import Ollama\n",
    "from langchain_community.document_loaders import PyPDFLoader\n",
    "from langchain.text_splitter import RecursiveCharacterTextSplitter\n",
    "\n",
    "import giskard\n",
    "from openai import OpenAI\n",
    "from giskard.llm.client.openai import OpenAIClient\n",
    "from giskard.llm.embeddings.openai import OpenAIEmbedding\n",
    "from giskard.rag import KnowledgeBase, QATestset, generate_testset\n",
    "\n",
    "import pandas as pd\n",
    "\n",
    "import warnings\n",
    "warnings.filterwarnings('ignore')"
   ]
  },
  {
   "cell_type": "code",
   "execution_count": 2,
   "id": "1eb80e67-53d4-4c50-8d93-b5c9c960c88f",
   "metadata": {},
   "outputs": [],
   "source": [
    "_client = OpenAI(base_url=\"http://localhost:11434/v1/\", api_key=\"ollama\")\n",
    "\n",
    "llm_client = OpenAIClient(model=\"llama3\", client=_client)\n",
    "embed_client = OpenAIEmbedding(model=\"nomic-embed-text\", client=_client)\n",
    "\n",
    "giskard.llm.set_default_client(llm_client)\n",
    "giskard.llm.embeddings.set_default_embedding(embed_client)"
   ]
  },
  {
   "cell_type": "code",
   "execution_count": 3,
   "id": "01ff5ac9-a80c-4445-a5a9-fdf14d56dd06",
   "metadata": {},
   "outputs": [],
   "source": [
    "text_splitter = RecursiveCharacterTextSplitter(\n",
    "    chunk_size=1000, \n",
    "    chunk_overlap=20,\n",
    "    separators=[\n",
    "        \"\\n\\n\",\n",
    "        \"\\n\",\n",
    "        \" \",\n",
    "        \".\",\n",
    "        \",\",\n",
    "        \"\\u200b\",  # Zero-width space\n",
    "        \"\\uff0c\",  # Fullwidth comma\n",
    "        \"\\u3001\",  # Ideographic comma\n",
    "        \"\\uff0e\",  # Fullwidth full stop\n",
    "        \"\\u3002\",  # Ideographic full stop\n",
    "        \"\",\n",
    "    ],\n",
    ")\n",
    "loader = PyPDFLoader('test/chap1/chap1.pdf')\n",
    "docs = loader.load()\n",
    "all_splits = text_splitter.split_documents(docs)"
   ]
  },
  {
   "cell_type": "code",
   "execution_count": 4,
   "id": "70175c2c-9bfc-402b-b046-39f2f983555b",
   "metadata": {},
   "outputs": [
    {
     "data": {
      "text/html": [
       "<div>\n",
       "<style scoped>\n",
       "    .dataframe tbody tr th:only-of-type {\n",
       "        vertical-align: middle;\n",
       "    }\n",
       "\n",
       "    .dataframe tbody tr th {\n",
       "        vertical-align: top;\n",
       "    }\n",
       "\n",
       "    .dataframe thead th {\n",
       "        text-align: right;\n",
       "    }\n",
       "</style>\n",
       "<table border=\"1\" class=\"dataframe\">\n",
       "  <thead>\n",
       "    <tr style=\"text-align: right;\">\n",
       "      <th></th>\n",
       "      <th>text</th>\n",
       "    </tr>\n",
       "  </thead>\n",
       "  <tbody>\n",
       "    <tr>\n",
       "      <th>0</th>\n",
       "      <td></td>\n",
       "    </tr>\n",
       "    <tr>\n",
       "      <th>1</th>\n",
       "      <td>Prescribed by National Curriculum and Textboo...</td>\n",
       "    </tr>\n",
       "    <tr>\n",
       "      <th>2</th>\n",
       "      <td>Published by\\nNational Curriculum and Textbook...</td>\n",
       "    </tr>\n",
       "    <tr>\n",
       "      <th>3</th>\n",
       "      <td>PREFACE\\nEducation is the pre-requisite for th...</td>\n",
       "    </tr>\n",
       "    <tr>\n",
       "      <th>4</th>\n",
       "      <td>One PHYSICAL QUANTITIES AND MEASUREMENT 1-25\\n...</td>\n",
       "    </tr>\n",
       "    <tr>\n",
       "      <th>5</th>\n",
       "      <td>Physics  1 \\nChapter one \\nPHYSICAL QUANTITIES...</td>\n",
       "    </tr>\n",
       "    <tr>\n",
       "      <th>6</th>\n",
       "      <td>2  Physics \\n1.1 Physics  \\nThe branch of scie...</td>\n",
       "    </tr>\n",
       "    <tr>\n",
       "      <th>7</th>\n",
       "      <td>Physics  3 \\nthis time West European civilizat...</td>\n",
       "    </tr>\n",
       "    <tr>\n",
       "      <th>8</th>\n",
       "      <td>4  Physics \\ndetermination of relations among ...</td>\n",
       "    </tr>\n",
       "    <tr>\n",
       "      <th>9</th>\n",
       "      <td>Physics  5 \\nbomb and nuclear reactor are inve...</td>\n",
       "    </tr>\n",
       "  </tbody>\n",
       "</table>\n",
       "</div>"
      ],
      "text/plain": [
       "                                                text\n",
       "0                                                   \n",
       "1   Prescribed by National Curriculum and Textboo...\n",
       "2  Published by\\nNational Curriculum and Textbook...\n",
       "3  PREFACE\\nEducation is the pre-requisite for th...\n",
       "4  One PHYSICAL QUANTITIES AND MEASUREMENT 1-25\\n...\n",
       "5  Physics  1 \\nChapter one \\nPHYSICAL QUANTITIES...\n",
       "6  2  Physics \\n1.1 Physics  \\nThe branch of scie...\n",
       "7  Physics  3 \\nthis time West European civilizat...\n",
       "8  4  Physics \\ndetermination of relations among ...\n",
       "9  Physics  5 \\nbomb and nuclear reactor are inve..."
      ]
     },
     "execution_count": 4,
     "metadata": {},
     "output_type": "execute_result"
    }
   ],
   "source": [
    "df = pd.DataFrame([d.page_content for d in docs], columns=[\"text\"])\n",
    "df.head(10)"
   ]
  },
  {
   "cell_type": "code",
   "execution_count": 5,
   "id": "5336d358-7ceb-4b15-a3f9-20e9074c8e98",
   "metadata": {},
   "outputs": [],
   "source": [
    "knowledge_base = KnowledgeBase(df)"
   ]
  },
  {
   "cell_type": "code",
   "execution_count": 7,
   "id": "21e02066-c695-48fe-85d3-aa2d16b72d74",
   "metadata": {},
   "outputs": [
    {
     "name": "stdout",
     "output_type": "stream",
     "text": [
      "2024-10-29 00:32:27,749 pid:50069 MainThread giskard.rag  INFO     Finding topics in the knowledge base.\n",
      "2024-10-29 00:37:37,091 pid:50069 MainThread giskard.rag  INFO     Found 3 topics in the knowledge base.\n"
     ]
    },
    {
     "data": {
      "application/vnd.jupyter.widget-view+json": {
       "model_id": "ec561e44ff994f70bd49b922e212ebf7",
       "version_major": 2,
       "version_minor": 0
      },
      "text/plain": [
       "Generating questions:   0%|          | 0/5 [00:00<?, ?it/s]"
      ]
     },
     "metadata": {},
     "output_type": "display_data"
    },
    {
     "name": "stdout",
     "output_type": "stream",
     "text": [
      "2024-10-29 00:42:43,816 pid:50069 MainThread giskard.rag  ERROR    Encountered error in question generation: Expecting value: line 1 column 1 (char 0). Skipping.\n",
      "2024-10-29 00:42:43,817 pid:50069 MainThread giskard.rag  ERROR    Expecting value: line 1 column 1 (char 0)\n",
      "Traceback (most recent call last):\n",
      "  File \"/home/tamim-ishrak/.config/jupyterlab-desktop/jlab_server/lib/python3.12/site-packages/giskard/rag/question_generators/base.py\", line 57, in generate_questions\n",
      "    yield self.generate_single_question(knowledge_base, *args, **kwargs)\n",
      "          ^^^^^^^^^^^^^^^^^^^^^^^^^^^^^^^^^^^^^^^^^^^^^^^^^^^^^^^^^^^^^^\n",
      "  File \"/home/tamim-ishrak/.config/jupyterlab-desktop/jlab_server/lib/python3.12/site-packages/giskard/rag/question_generators/simple_questions.py\", line 96, in generate_single_question\n",
      "    generated_qa = self._llm_complete(messages=messages)\n",
      "                   ^^^^^^^^^^^^^^^^^^^^^^^^^^^^^^^^^^^^^\n",
      "  File \"/home/tamim-ishrak/.config/jupyterlab-desktop/jlab_server/lib/python3.12/site-packages/giskard/rag/question_generators/base.py\", line 48, in _llm_complete\n",
      "    return parse_json_output(out.content, self._llm_client, caller_id=self.__class__.__name__)\n",
      "           ^^^^^^^^^^^^^^^^^^^^^^^^^^^^^^^^^^^^^^^^^^^^^^^^^^^^^^^^^^^^^^^^^^^^^^^^^^^^^^^^^^^\n",
      "  File \"/home/tamim-ishrak/.config/jupyterlab-desktop/jlab_server/lib/python3.12/site-packages/giskard/rag/question_generators/utils.py\", line 58, in parse_json_output\n",
      "    parsed_dict = json.loads(out.content, strict=False)\n",
      "                  ^^^^^^^^^^^^^^^^^^^^^^^^^^^^^^^^^^^^^\n",
      "  File \"/home/tamim-ishrak/.config/jupyterlab-desktop/jlab_server/lib/python3.12/json/__init__.py\", line 359, in loads\n",
      "    return cls(**kw).decode(s)\n",
      "           ^^^^^^^^^^^^^^^^^^^\n",
      "  File \"/home/tamim-ishrak/.config/jupyterlab-desktop/jlab_server/lib/python3.12/json/decoder.py\", line 337, in decode\n",
      "    obj, end = self.raw_decode(s, idx=_w(s, 0).end())\n",
      "               ^^^^^^^^^^^^^^^^^^^^^^^^^^^^^^^^^^^^^^\n",
      "  File \"/home/tamim-ishrak/.config/jupyterlab-desktop/jlab_server/lib/python3.12/json/decoder.py\", line 355, in raw_decode\n",
      "    raise JSONDecodeError(\"Expecting value\", s, err.value) from None\n",
      "json.decoder.JSONDecodeError: Expecting value: line 1 column 1 (char 0)\n",
      "2024-10-29 00:46:10,455 pid:50069 MainThread giskard.rag  ERROR    Encountered error in question generation: Expecting value: line 1 column 1 (char 0). Skipping.\n",
      "2024-10-29 00:46:10,455 pid:50069 MainThread giskard.rag  ERROR    Expecting value: line 1 column 1 (char 0)\n",
      "Traceback (most recent call last):\n",
      "  File \"/home/tamim-ishrak/.config/jupyterlab-desktop/jlab_server/lib/python3.12/site-packages/giskard/rag/question_generators/base.py\", line 78, in generate_questions\n",
      "    yield self._modify_question(question, knowledge_base, *args, **kwargs)\n",
      "          ^^^^^^^^^^^^^^^^^^^^^^^^^^^^^^^^^^^^^^^^^^^^^^^^^^^^^^^^^^^^^^^^\n",
      "  File \"/home/tamim-ishrak/.config/jupyterlab-desktop/jlab_server/lib/python3.12/site-packages/giskard/rag/question_generators/situational_questions.py\", line 117, in _modify_question\n",
      "    out = self._llm_complete(messages=messages)\n",
      "          ^^^^^^^^^^^^^^^^^^^^^^^^^^^^^^^^^^^^^\n",
      "  File \"/home/tamim-ishrak/.config/jupyterlab-desktop/jlab_server/lib/python3.12/site-packages/giskard/rag/question_generators/base.py\", line 48, in _llm_complete\n",
      "    return parse_json_output(out.content, self._llm_client, caller_id=self.__class__.__name__)\n",
      "           ^^^^^^^^^^^^^^^^^^^^^^^^^^^^^^^^^^^^^^^^^^^^^^^^^^^^^^^^^^^^^^^^^^^^^^^^^^^^^^^^^^^\n",
      "  File \"/home/tamim-ishrak/.config/jupyterlab-desktop/jlab_server/lib/python3.12/site-packages/giskard/rag/question_generators/utils.py\", line 58, in parse_json_output\n",
      "    parsed_dict = json.loads(out.content, strict=False)\n",
      "                  ^^^^^^^^^^^^^^^^^^^^^^^^^^^^^^^^^^^^^\n",
      "  File \"/home/tamim-ishrak/.config/jupyterlab-desktop/jlab_server/lib/python3.12/json/__init__.py\", line 359, in loads\n",
      "    return cls(**kw).decode(s)\n",
      "           ^^^^^^^^^^^^^^^^^^^\n",
      "  File \"/home/tamim-ishrak/.config/jupyterlab-desktop/jlab_server/lib/python3.12/json/decoder.py\", line 337, in decode\n",
      "    obj, end = self.raw_decode(s, idx=_w(s, 0).end())\n",
      "               ^^^^^^^^^^^^^^^^^^^^^^^^^^^^^^^^^^^^^^\n",
      "  File \"/home/tamim-ishrak/.config/jupyterlab-desktop/jlab_server/lib/python3.12/json/decoder.py\", line 355, in raw_decode\n",
      "    raise JSONDecodeError(\"Expecting value\", s, err.value) from None\n",
      "json.decoder.JSONDecodeError: Expecting value: line 1 column 1 (char 0)\n"
     ]
    }
   ],
   "source": [
    "testset = generate_testset(\n",
    "    knowledge_base,\n",
    "    num_questions=5,\n",
    "    agent_description=\"A chatbot answering questions from physics textbook\",\n",
    ")"
   ]
  },
  {
   "cell_type": "code",
   "execution_count": 9,
   "id": "289d2b5d-ccaf-4624-8e35-f61331ead25f",
   "metadata": {},
   "outputs": [],
   "source": [
    "testset.save(\"testset_chapter1.jsonl\")\n",
    "\n",
    "loaded_testset = QATestset.load(\"testset_chapter1.jsonl\")"
   ]
  },
  {
   "cell_type": "code",
   "execution_count": 10,
   "id": "0cf19255-f91a-4244-8a99-db4c4c04e504",
   "metadata": {},
   "outputs": [],
   "source": [
    "df_chap1 = loaded_testset.to_pandas()"
   ]
  },
  {
   "cell_type": "code",
   "execution_count": 11,
   "id": "e448cb12-f4d8-4e51-a4d7-8c2008cf9f5f",
   "metadata": {},
   "outputs": [],
   "source": [
    "df_chap1.to_csv('chapter1_test.csv')"
   ]
  },
  {
   "cell_type": "code",
   "execution_count": 12,
   "id": "4d5e4ce6-5ec2-4958-aae1-042e167913d4",
   "metadata": {},
   "outputs": [
    {
     "data": {
      "text/plain": [
       "(3, 5)"
      ]
     },
     "execution_count": 12,
     "metadata": {},
     "output_type": "execute_result"
    }
   ],
   "source": [
    "df_chap1.shape"
   ]
  },
  {
   "cell_type": "code",
   "execution_count": 15,
   "id": "8bfcd63e-4a85-45ad-b711-48d154e29394",
   "metadata": {},
   "outputs": [
    {
     "data": {
      "text/plain": [
       "['Max Planck discovered the quantum theory of radiation.',\n",
       " 'The standard value of `g` at sea level altitude 45 ° is accepted as 9.80665ms-2, and taken to be 9.8ms-2 or 9.81ms-2 for convenience.',\n",
       " 'The unit of speed is meter/second (ms-1) and average speed is calculated as total distance divided by time.']"
      ]
     },
     "execution_count": 15,
     "metadata": {},
     "output_type": "execute_result"
    }
   ],
   "source": [
    "df_chap1[\"reference_answer\"].to_list()"
   ]
  },
  {
   "cell_type": "code",
   "execution_count": null,
   "id": "2bccd4af-246d-4095-b972-4d965c74a4b7",
   "metadata": {},
   "outputs": [],
   "source": []
  }
 ],
 "metadata": {
  "kernelspec": {
   "display_name": "Python 3 (ipykernel)",
   "language": "python",
   "name": "python3"
  },
  "language_info": {
   "codemirror_mode": {
    "name": "ipython",
    "version": 3
   },
   "file_extension": ".py",
   "mimetype": "text/x-python",
   "name": "python",
   "nbconvert_exporter": "python",
   "pygments_lexer": "ipython3",
   "version": "3.12.3"
  }
 },
 "nbformat": 4,
 "nbformat_minor": 5
}
