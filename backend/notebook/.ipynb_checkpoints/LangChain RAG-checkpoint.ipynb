{
 "cells": [
  {
   "cell_type": "markdown",
   "id": "294adb38-48bb-4a8a-a517-f370df35ef3d",
   "metadata": {},
   "source": [
    "# Importing Libraries"
   ]
  },
  {
   "cell_type": "code",
   "execution_count": 1,
   "id": "2f18acbc-6b58-4073-b088-69bf9a73d709",
   "metadata": {},
   "outputs": [],
   "source": [
    "# updated version\n",
    "from time import time\n",
    "import torch\n",
    "from langchain_community.llms import Ollama\n",
    "from langchain_community.document_loaders import PyPDFLoader\n",
    "from langchain.text_splitter import RecursiveCharacterTextSplitter\n",
    "from langchain_huggingface import HuggingFaceEmbeddings\n",
    "from langchain_core.output_parsers import StrOutputParser\n",
    "from langchain_core.runnables import RunnablePassthrough\n",
    "from langchain_community.vectorstores import Chroma\n",
    "\n",
    "import warnings\n",
    "warnings.filterwarnings('ignore')"
   ]
  },
  {
   "cell_type": "code",
   "execution_count": 39,
   "id": "65287cf5-a68b-4179-8b07-1c62e7fb7684",
   "metadata": {},
   "outputs": [],
   "source": [
    "GEMMA = \"gemma:2b\"\n",
    "LLAMA = \"llama3\"\n",
    "QWEN = \"qwen:4b\""
   ]
  },
  {
   "cell_type": "markdown",
   "id": "7f342791-2318-438f-9cd4-ed54737f1904",
   "metadata": {},
   "source": [
    "# Getting the Language Models"
   ]
  },
  {
   "cell_type": "code",
   "execution_count": 44,
   "id": "3409f1bf-1079-4ded-998d-e7adf196fbdb",
   "metadata": {},
   "outputs": [],
   "source": [
    "llm = Ollama(model=GEMMA)"
   ]
  },
  {
   "cell_type": "markdown",
   "id": "e3bb10d1-86fe-4ca8-bd18-ef8eac151d2d",
   "metadata": {},
   "source": [
    "# Data Ingestion"
   ]
  },
  {
   "cell_type": "code",
   "execution_count": 27,
   "id": "3268c7fe-95ad-43f8-8faa-ed3395dd97cb",
   "metadata": {},
   "outputs": [],
   "source": [
    "# Data ingestion using PDF loader\n",
    "loader = PyPDFLoader(\"pdf/Physics Classes 9-10.pdf\")\n",
    "documents = loader.load()\n",
    "#print(documents)"
   ]
  },
  {
   "cell_type": "code",
   "execution_count": 28,
   "id": "259c8996-1cc5-4481-a807-d1cb0afcdf33",
   "metadata": {},
   "outputs": [],
   "source": [
    "text_splitter = RecursiveCharacterTextSplitter(chunk_size=1000, chunk_overlap=100)\n",
    "all_splits = text_splitter.split_documents(documents)\n",
    "#print(all_splits)"
   ]
  },
  {
   "cell_type": "code",
   "execution_count": 60,
   "id": "4dada10c-1212-4e65-bb47-33035a3d5d83",
   "metadata": {},
   "outputs": [],
   "source": [
    "device = \"cuda\" if torch.cuda.is_available() else \"cpu\"\n",
    "all_mpnet = \"sentence-transformers/all-mpnet-base-v2\"\n",
    "all_miniLM = \"sentence-transformers/all-MiniLM-L6-v2\"\n",
    "model_kwargs = { \"device\": device }\n",
    "\n",
    "# embeddings = HuggingFaceEmbeddings(\n",
    "#     model_name=model_name,\n",
    "#     model_kwargs=model_kwargs\n",
    "# )"
   ]
  },
  {
   "cell_type": "code",
   "execution_count": 61,
   "id": "5d71e90a-d1d4-4372-b4cc-60be98d0c204",
   "metadata": {},
   "outputs": [
    {
     "name": "stdout",
     "output_type": "stream",
     "text": [
      "Using device: cpu\n"
     ]
    }
   ],
   "source": [
    "def create_embeddings(model_name, model_kwargs):\n",
    "    print(f\"Using device: {device}\")\n",
    "    embeddings = HuggingFaceEmbeddings(\n",
    "        model_name=model_name,\n",
    "        model_kwargs=model_kwargs\n",
    "    )\n",
    "    return embeddings\n",
    "\n",
    "embeddings = create_embeddings(all_mpnet, model_kwargs)"
   ]
  },
  {
   "cell_type": "code",
   "execution_count": 62,
   "id": "636ecde7-949b-46be-9deb-9437976753ce",
   "metadata": {},
   "outputs": [
    {
     "name": "stdout",
     "output_type": "stream",
     "text": [
      "client=SentenceTransformer(\n",
      "  (0): Transformer({'max_seq_length': 384, 'do_lower_case': False}) with Transformer model: MPNetModel \n",
      "  (1): Pooling({'word_embedding_dimension': 768, 'pooling_mode_cls_token': False, 'pooling_mode_mean_tokens': True, 'pooling_mode_max_tokens': False, 'pooling_mode_mean_sqrt_len_tokens': False, 'pooling_mode_weightedmean_tokens': False, 'pooling_mode_lasttoken': False, 'include_prompt': True})\n",
      "  (2): Normalize()\n",
      ") model_name='sentence-transformers/all-mpnet-base-v2' cache_folder=None model_kwargs={'device': 'cpu'} encode_kwargs={} multi_process=False show_progress=False\n"
     ]
    }
   ],
   "source": [
    "print(embeddings)"
   ]
  },
  {
   "cell_type": "code",
   "execution_count": 63,
   "id": "dcc0769c-0d13-4386-b061-c5944f48d687",
   "metadata": {},
   "outputs": [],
   "source": [
    "vectordb = Chroma.from_documents(\n",
    "    documents=all_splits, \n",
    "    embedding=embeddings, persist_directory=\"chroma_db\"\n",
    ")"
   ]
  },
  {
   "cell_type": "markdown",
   "id": "d8aa2124-60c3-4184-9228-0d548b1d11a5",
   "metadata": {},
   "source": [
    "# Retrieval"
   ]
  },
  {
   "cell_type": "code",
   "execution_count": 64,
   "id": "84fbb683-2cd7-480c-a1b0-b33be128885a",
   "metadata": {},
   "outputs": [],
   "source": [
    "retriever = vectordb.as_retriever(\n",
    "    search_type=\"similarity_score_threshold\", \n",
    "    search_kwargs={\"score_threshold\": 0.4}\n",
    ")"
   ]
  },
  {
   "cell_type": "code",
   "execution_count": 65,
   "id": "706d06da-6cc0-4101-b9b3-c4424f419906",
   "metadata": {},
   "outputs": [
    {
     "data": {
      "text/plain": [
       "4"
      ]
     },
     "execution_count": 65,
     "metadata": {},
     "output_type": "execute_result"
    }
   ],
   "source": [
    "retrieved_docs = retriever.invoke(\"What is motion?\")\n",
    "len(retrieved_docs)"
   ]
  },
  {
   "cell_type": "code",
   "execution_count": 66,
   "id": "218463e5-f7bd-4fa7-bf8f-0234fff244a0",
   "metadata": {},
   "outputs": [
    {
     "name": "stdout",
     "output_type": "stream",
     "text": [
      "Docs: to the surroundings. A body is said to be in motion with respect to its surroundings when \n",
      "it changes its position with time. And this change of position with time is called motion.  \n",
      "We discussed earlier that to understand whether an object is in rest or in motion it is \n",
      "necessary to chose a reference object or reference frame. If the relative positions of this Do by yourself : Hold a pen in your hand . \n",
      "Do by yourself : Keep the pen in your hand moving to and fro .\n",
      "\n",
      "\n",
      "Docs: to the surroundings. A body is said to be in motion with respect to its surroundings when \n",
      "it changes its position with time. And this change of position with time is called motion.  \n",
      "We discussed earlier that to understand whether an object is in rest or in motion it is \n",
      "necessary to chose a reference object or reference frame. If the relative positions of this Do by yourself : Hold a pen in your hand . \n",
      "Do by yourself : Keep the pen in your hand moving to and fro .\n",
      "\n",
      "\n",
      "Docs: to the surroundings. A body is said to be in motion with respect to its surroundings when \n",
      "it changes its position with time. And this change of position with time is called motion.  \n",
      "We discussed earlier that to understand whether an object is in rest or in motion it is \n",
      "necessary to chose a reference object or reference frame. If the relative positions of this Do by yourself : Hold a pen in your hand . \n",
      "Do by yourself : Keep the pen in your hand moving to and fro .\n",
      "\n",
      "\n",
      "Docs: to the surroundings. A body is said to be in motion with respect to its surroundings when \n",
      "it changes its position with time. And this change of position with time is called motion.  \n",
      "We discussed earlier that to understand whether an object is in rest or in motion it is \n",
      "necessary to chose a reference object or reference frame. If the relative positions of this Do by yourself : Hold a pen in your hand . \n",
      "Do by yourself : Keep the pen in your hand moving to and fro .\n",
      "\n",
      "\n"
     ]
    }
   ],
   "source": [
    "for doc in retrieved_docs:\n",
    "    print(f\"Docs: {doc.page_content}\")\n",
    "    print(\"\\n\")"
   ]
  },
  {
   "cell_type": "markdown",
   "id": "8dd97f18-5306-41b7-be0a-1d94967e2634",
   "metadata": {},
   "source": [
    "# Text Generation "
   ]
  },
  {
   "cell_type": "code",
   "execution_count": 67,
   "id": "bf8231ab-acbc-43b3-82f9-b8d8ff9a7452",
   "metadata": {},
   "outputs": [],
   "source": [
    "from langchain import hub\n",
    "\n",
    "prompt = hub.pull(\"rlm/rag-prompt\")"
   ]
  },
  {
   "cell_type": "code",
   "execution_count": 68,
   "id": "f31536d6-af06-4d66-bbf3-b816e4446776",
   "metadata": {},
   "outputs": [
    {
     "data": {
      "text/plain": [
       "[HumanMessage(content=\"You are an assistant for question-answering tasks. Use the following pieces of retrieved context to answer the question. If you don't know the answer, just say that you don't know. Use three sentences maximum and keep the answer concise.\\nQuestion: filler question \\nContext: filler context \\nAnswer:\")]"
      ]
     },
     "execution_count": 68,
     "metadata": {},
     "output_type": "execute_result"
    }
   ],
   "source": [
    "example_messages = prompt.invoke(\n",
    "    {\"context\": \"filler context\", \"question\": \"filler question\"}\n",
    ").to_messages()\n",
    "example_messages"
   ]
  },
  {
   "cell_type": "code",
   "execution_count": 69,
   "id": "ba5f561e-f439-4147-a227-a14f1b84bf74",
   "metadata": {},
   "outputs": [],
   "source": [
    "def format_docs(docs):\n",
    "    return \"\\n\\n\".join(doc.page_content for doc in docs)\n",
    "\n",
    "\n",
    "rag_chain = (\n",
    "    {\"context\": retriever | format_docs, \"question\": RunnablePassthrough()}\n",
    "    | prompt\n",
    "    | llm\n",
    "    | StrOutputParser()\n",
    ")"
   ]
  },
  {
   "cell_type": "code",
   "execution_count": 70,
   "id": "8e04fdf9-ccba-4c71-a468-0003779e27c9",
   "metadata": {},
   "outputs": [
    {
     "data": {
      "text/plain": [
       "'Sure, the definition of motion is the change of position of a body with time.'"
      ]
     },
     "execution_count": 70,
     "metadata": {},
     "output_type": "execute_result"
    }
   ],
   "source": [
    "rag_chain.invoke(\"What is motion?\")"
   ]
  },
  {
   "cell_type": "code",
   "execution_count": null,
   "id": "085eb1f6-d881-485d-984b-91a6901f3baf",
   "metadata": {},
   "outputs": [],
   "source": []
  }
 ],
 "metadata": {
  "kernelspec": {
   "display_name": "Python 3 (ipykernel)",
   "language": "python",
   "name": "python3"
  },
  "language_info": {
   "codemirror_mode": {
    "name": "ipython",
    "version": 3
   },
   "file_extension": ".py",
   "mimetype": "text/x-python",
   "name": "python",
   "nbconvert_exporter": "python",
   "pygments_lexer": "ipython3",
   "version": "3.12.3"
  }
 },
 "nbformat": 4,
 "nbformat_minor": 5
}
