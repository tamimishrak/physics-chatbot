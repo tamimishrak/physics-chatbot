{
 "cells": [
  {
   "cell_type": "markdown",
   "id": "294adb38-48bb-4a8a-a517-f370df35ef3d",
   "metadata": {},
   "source": [
    "# Importing Libraries"
   ]
  },
  {
   "cell_type": "code",
   "execution_count": 1,
   "id": "2f18acbc-6b58-4073-b088-69bf9a73d709",
   "metadata": {},
   "outputs": [],
   "source": [
    "# updated version\n",
    "from time import time\n",
    "import torch\n",
    "from langchain_community.llms import Ollama\n",
    "from langchain_community.document_loaders import PyPDFLoader\n",
    "from langchain.text_splitter import RecursiveCharacterTextSplitter\n",
    "from langchain_huggingface import HuggingFaceEmbeddings\n",
    "from langchain_core.output_parsers import StrOutputParser\n",
    "from langchain_core.runnables import RunnablePassthrough\n",
    "from langchain_community.vectorstores import Chroma\n",
    "\n",
    "import warnings\n",
    "warnings.filterwarnings('ignore')\n"
   ]
  },
  {
   "cell_type": "code",
   "execution_count": 39,
   "id": "65287cf5-a68b-4179-8b07-1c62e7fb7684",
   "metadata": {},
   "outputs": [],
   "source": [
    "GEMMA = \"gemma:2b\"\n",
    "LLAMA = \"llama3\"\n",
    "QWEN = \"qwen:4b\""
   ]
  },
  {
   "cell_type": "markdown",
   "id": "7f342791-2318-438f-9cd4-ed54737f1904",
   "metadata": {},
   "source": [
    "# Getting the Language Models"
   ]
  },
  {
   "cell_type": "code",
   "execution_count": 44,
   "id": "3409f1bf-1079-4ded-998d-e7adf196fbdb",
   "metadata": {},
   "outputs": [],
   "source": [
    "llm = Ollama(model=GEMMA)"
   ]
  },
  {
   "cell_type": "markdown",
   "id": "e3bb10d1-86fe-4ca8-bd18-ef8eac151d2d",
   "metadata": {},
   "source": [
    "# Data Ingestion"
   ]
  },
  {
   "cell_type": "code",
   "execution_count": 27,
   "id": "3268c7fe-95ad-43f8-8faa-ed3395dd97cb",
   "metadata": {},
   "outputs": [],
   "source": [
    "# Data ingestion using PDF loader\n",
    "loader = PyPDFLoader(\"pdf/Physics Classes 9-10.pdf\")\n",
    "documents = loader.load()\n",
    "#print(documents)"
   ]
  },
  {
   "cell_type": "code",
   "execution_count": 28,
   "id": "259c8996-1cc5-4481-a807-d1cb0afcdf33",
   "metadata": {},
   "outputs": [],
   "source": [
    "text_splitter = RecursiveCharacterTextSplitter(chunk_size=1000, chunk_overlap=100)\n",
    "all_splits = text_splitter.split_documents(documents)\n",
    "#print(all_splits)"
   ]
  },
  {
   "cell_type": "code",
   "execution_count": 29,
   "id": "4dada10c-1212-4e65-bb47-33035a3d5d83",
   "metadata": {},
   "outputs": [
    {
     "name": "stdout",
     "output_type": "stream",
     "text": [
      "Using device: cpu\n"
     ]
    }
   ],
   "source": [
    "device = \"cuda\" if torch.cuda.is_available() else \"cpu\"\n",
    "model_name = \"sentence-transformers/all-mpnet-base-v2\"\n",
    "model_kwargs = { \"device\": device }\n",
    "\n",
    "# embeddings = HuggingFaceEmbeddings(\n",
    "#     model_name=model_name,\n",
    "#     model_kwargs=model_kwargs\n",
    "# )\n",
    "\n",
    "print(f\"Using device: {device}\")"
   ]
  },
  {
   "cell_type": "code",
   "execution_count": 48,
   "id": "5d71e90a-d1d4-4372-b4cc-60be98d0c204",
   "metadata": {},
   "outputs": [
    {
     "name": "stdout",
     "output_type": "stream",
     "text": [
      "Using device: cpu\n"
     ]
    },
    {
     "data": {
      "application/vnd.jupyter.widget-view+json": {
       "model_id": "e07a43b44b454c4a86fe2ed3791a9010",
       "version_major": 2,
       "version_minor": 0
      },
      "text/plain": [
       "modules.json:   0%|          | 0.00/349 [00:00<?, ?B/s]"
      ]
     },
     "metadata": {},
     "output_type": "display_data"
    },
    {
     "data": {
      "application/vnd.jupyter.widget-view+json": {
       "model_id": "b8f9e7d2a4f74d10baf263e6b02ec439",
       "version_major": 2,
       "version_minor": 0
      },
      "text/plain": [
       "config_sentence_transformers.json:   0%|          | 0.00/116 [00:00<?, ?B/s]"
      ]
     },
     "metadata": {},
     "output_type": "display_data"
    },
    {
     "data": {
      "application/vnd.jupyter.widget-view+json": {
       "model_id": "b64b0df49a1a42d7a804f0748bfcfd52",
       "version_major": 2,
       "version_minor": 0
      },
      "text/plain": [
       "README.md:   0%|          | 0.00/10.7k [00:00<?, ?B/s]"
      ]
     },
     "metadata": {},
     "output_type": "display_data"
    },
    {
     "data": {
      "application/vnd.jupyter.widget-view+json": {
       "model_id": "ed3d939cc0f8456bb999fbe56993504e",
       "version_major": 2,
       "version_minor": 0
      },
      "text/plain": [
       "sentence_bert_config.json:   0%|          | 0.00/53.0 [00:00<?, ?B/s]"
      ]
     },
     "metadata": {},
     "output_type": "display_data"
    },
    {
     "data": {
      "application/vnd.jupyter.widget-view+json": {
       "model_id": "0ea66801c0144a79af4d1f407e6ae64c",
       "version_major": 2,
       "version_minor": 0
      },
      "text/plain": [
       "config.json:   0%|          | 0.00/612 [00:00<?, ?B/s]"
      ]
     },
     "metadata": {},
     "output_type": "display_data"
    },
    {
     "data": {
      "application/vnd.jupyter.widget-view+json": {
       "model_id": "b0c42c8f2fcc46d9a902686fbacfea14",
       "version_major": 2,
       "version_minor": 0
      },
      "text/plain": [
       "model.safetensors:   0%|          | 0.00/90.9M [00:00<?, ?B/s]"
      ]
     },
     "metadata": {},
     "output_type": "display_data"
    },
    {
     "data": {
      "application/vnd.jupyter.widget-view+json": {
       "model_id": "837dd8ec54794fbba4da7556cfd7e77d",
       "version_major": 2,
       "version_minor": 0
      },
      "text/plain": [
       "tokenizer_config.json:   0%|          | 0.00/350 [00:00<?, ?B/s]"
      ]
     },
     "metadata": {},
     "output_type": "display_data"
    },
    {
     "data": {
      "application/vnd.jupyter.widget-view+json": {
       "model_id": "295db3e48e9b438089c9dd426aabe836",
       "version_major": 2,
       "version_minor": 0
      },
      "text/plain": [
       "vocab.txt:   0%|          | 0.00/232k [00:00<?, ?B/s]"
      ]
     },
     "metadata": {},
     "output_type": "display_data"
    },
    {
     "data": {
      "application/vnd.jupyter.widget-view+json": {
       "model_id": "9788eb50fcff4b8a953936547b028eb2",
       "version_major": 2,
       "version_minor": 0
      },
      "text/plain": [
       "tokenizer.json:   0%|          | 0.00/466k [00:00<?, ?B/s]"
      ]
     },
     "metadata": {},
     "output_type": "display_data"
    },
    {
     "data": {
      "application/vnd.jupyter.widget-view+json": {
       "model_id": "65fb2d2587984d3e890be7ae2bd3a9df",
       "version_major": 2,
       "version_minor": 0
      },
      "text/plain": [
       "special_tokens_map.json:   0%|          | 0.00/112 [00:00<?, ?B/s]"
      ]
     },
     "metadata": {},
     "output_type": "display_data"
    },
    {
     "data": {
      "application/vnd.jupyter.widget-view+json": {
       "model_id": "c16b99517762445f9f7b4f8e3aa1e0b3",
       "version_major": 2,
       "version_minor": 0
      },
      "text/plain": [
       "1_Pooling/config.json:   0%|          | 0.00/190 [00:00<?, ?B/s]"
      ]
     },
     "metadata": {},
     "output_type": "display_data"
    }
   ],
   "source": [
    "def create_embeddings(model_name, model_kwargs):\n",
    "    print(f\"Using device: {device}\")\n",
    "    embeddings = HuggingFaceEmbeddings(\n",
    "        model_name=model_name,\n",
    "        model_kwargs=model_kwargs\n",
    "    )\n",
    "    return embeddings\n",
    "\n",
    "embeddings = create_embeddings(\"sentence-transformers/all-MiniLM-L6-v2\", model_kwargs)"
   ]
  },
  {
   "cell_type": "code",
   "execution_count": 49,
   "id": "636ecde7-949b-46be-9deb-9437976753ce",
   "metadata": {},
   "outputs": [
    {
     "name": "stdout",
     "output_type": "stream",
     "text": [
      "client=SentenceTransformer(\n",
      "  (0): Transformer({'max_seq_length': 256, 'do_lower_case': False}) with Transformer model: BertModel \n",
      "  (1): Pooling({'word_embedding_dimension': 384, 'pooling_mode_cls_token': False, 'pooling_mode_mean_tokens': True, 'pooling_mode_max_tokens': False, 'pooling_mode_mean_sqrt_len_tokens': False, 'pooling_mode_weightedmean_tokens': False, 'pooling_mode_lasttoken': False, 'include_prompt': True})\n",
      "  (2): Normalize()\n",
      ") model_name='sentence-transformers/all-MiniLM-L6-v2' cache_folder=None model_kwargs={'device': 'cpu'} encode_kwargs={} multi_process=False show_progress=False\n"
     ]
    }
   ],
   "source": [
    "print(embeddings)"
   ]
  },
  {
   "cell_type": "code",
   "execution_count": 50,
   "id": "dcc0769c-0d13-4386-b061-c5944f48d687",
   "metadata": {},
   "outputs": [],
   "source": [
    "vectordb = Chroma.from_documents(\n",
    "    documents=all_splits, \n",
    "    embedding=embeddings, persist_directory=\"minilm_db\"\n",
    ")"
   ]
  },
  {
   "cell_type": "markdown",
   "id": "d8aa2124-60c3-4184-9228-0d548b1d11a5",
   "metadata": {},
   "source": [
    "# Retrieval"
   ]
  },
  {
   "cell_type": "code",
   "execution_count": 51,
   "id": "84fbb683-2cd7-480c-a1b0-b33be128885a",
   "metadata": {},
   "outputs": [],
   "source": [
    "retriever = vectordb.as_retriever(\n",
    "    search_type=\"similarity_score_threshold\", \n",
    "    search_kwargs={\"score_threshold\": 0.4}\n",
    ")"
   ]
  },
  {
   "cell_type": "code",
   "execution_count": 58,
   "id": "706d06da-6cc0-4101-b9b3-c4424f419906",
   "metadata": {},
   "outputs": [
    {
     "data": {
      "text/plain": [
       "2"
      ]
     },
     "execution_count": 58,
     "metadata": {},
     "output_type": "execute_result"
    }
   ],
   "source": [
    "retrieved_docs = retriever.invoke(\"What is motion?\")\n",
    "len(retrieved_docs)"
   ]
  },
  {
   "cell_type": "code",
   "execution_count": 59,
   "id": "218463e5-f7bd-4fa7-bf8f-0234fff244a0",
   "metadata": {},
   "outputs": [
    {
     "name": "stdout",
     "output_type": "stream",
     "text": [
      "Docs: 26  Physics \n",
      "Chapter Two  \n",
      "MOTION \n",
      " \n",
      " \n",
      "[The object, that we see around us either are stationery or in motion. What do we \n",
      "actually understand by the words ``rest’’ and ``motion’’. We need different quantities regarding motion to express the characteristics of motion of a moving object. In this chapter we will discuss different quantities regarding motion, their dimensions, units, the \n",
      "relations among them etc.] \n",
      "By the end of this chapter we will be able to -  \n",
      "1. Explain the rest and motion  \n",
      "2. Find out the difference among different types of motion.  \n",
      "3. Explain the scalar and vector quantities  \n",
      "4. Analyze the relation among the quantities regarding motion  5. Explain the motion of freely falling bodies  \n",
      "6. Analyze the relations among the quantities regarding motion with the help of graph \n",
      "7. Realize the effect of motion in our life\n",
      "\n",
      "\n",
      "Docs: Physics  29 \n",
      " \n",
      "Fig-2.1(a)                                                             Fig-2.1(b) \n",
      "In the first example, the position of Awishi is changing with respect to Mou with the \n",
      "change of distance and time. In the second example, the position of Shihab is changing \n",
      "with respect to Raju with time but the distance is not changing. What is changing then ? \n",
      "The direction of position of Shihab is changing with respect to Raju. The position of a moving body with respect to an observer can be taken place either indirection or in \n",
      "distance or by both.  \n",
      "2.2 Types of motion  Linear motion :  If a body is in motion along a straight line, that is, if the motion of a \n",
      "body is restricted on a straight line its motion is called linear motion. The motion of a car in a straight street is linear motion.  \n",
      "Rotational motion : When a body rotates around a particular point or an axis keeping \n",
      "the distance of the particles of the body unchanged is called rotational motion. For\n",
      "\n",
      "\n"
     ]
    }
   ],
   "source": [
    "for doc in retrieved_docs:\n",
    "    print(f\"Docs: {doc.page_content}\")\n",
    "    print(\"\\n\")"
   ]
  },
  {
   "cell_type": "markdown",
   "id": "8dd97f18-5306-41b7-be0a-1d94967e2634",
   "metadata": {},
   "source": [
    "# Text Generation "
   ]
  },
  {
   "cell_type": "code",
   "execution_count": 54,
   "id": "bf8231ab-acbc-43b3-82f9-b8d8ff9a7452",
   "metadata": {},
   "outputs": [],
   "source": [
    "from langchain import hub\n",
    "\n",
    "prompt = hub.pull(\"rlm/rag-prompt\")"
   ]
  },
  {
   "cell_type": "code",
   "execution_count": 55,
   "id": "f31536d6-af06-4d66-bbf3-b816e4446776",
   "metadata": {},
   "outputs": [
    {
     "data": {
      "text/plain": [
       "[HumanMessage(content=\"You are an assistant for question-answering tasks. Use the following pieces of retrieved context to answer the question. If you don't know the answer, just say that you don't know. Use three sentences maximum and keep the answer concise.\\nQuestion: filler question \\nContext: filler context \\nAnswer:\")]"
      ]
     },
     "execution_count": 55,
     "metadata": {},
     "output_type": "execute_result"
    }
   ],
   "source": [
    "example_messages = prompt.invoke(\n",
    "    {\"context\": \"filler context\", \"question\": \"filler question\"}\n",
    ").to_messages()\n",
    "example_messages"
   ]
  },
  {
   "cell_type": "code",
   "execution_count": 56,
   "id": "ba5f561e-f439-4147-a227-a14f1b84bf74",
   "metadata": {},
   "outputs": [],
   "source": [
    "def format_docs(docs):\n",
    "    return \"\\n\\n\".join(doc.page_content for doc in docs)\n",
    "\n",
    "\n",
    "rag_chain = (\n",
    "    {\"context\": retriever | format_docs, \"question\": RunnablePassthrough()}\n",
    "    | prompt\n",
    "    | llm\n",
    "    | StrOutputParser()\n",
    ")"
   ]
  },
  {
   "cell_type": "code",
   "execution_count": 57,
   "id": "8e04fdf9-ccba-4c71-a468-0003779e27c9",
   "metadata": {},
   "outputs": [
    {
     "data": {
      "text/plain": [
       "\"Sure, here's the answer to the question:\\n\\nMotion is the change in position of an object with respect to time. It can be described in terms of either the distance traveled or the displacement undergone.\""
      ]
     },
     "execution_count": 57,
     "metadata": {},
     "output_type": "execute_result"
    }
   ],
   "source": [
    "rag_chain.invoke(\"What is motion?\")"
   ]
  },
  {
   "cell_type": "code",
   "execution_count": null,
   "id": "085eb1f6-d881-485d-984b-91a6901f3baf",
   "metadata": {},
   "outputs": [],
   "source": []
  }
 ],
 "metadata": {
  "kernelspec": {
   "display_name": "Python 3 (ipykernel)",
   "language": "python",
   "name": "python3"
  },
  "language_info": {
   "codemirror_mode": {
    "name": "ipython",
    "version": 3
   },
   "file_extension": ".py",
   "mimetype": "text/x-python",
   "name": "python",
   "nbconvert_exporter": "python",
   "pygments_lexer": "ipython3",
   "version": "3.12.3"
  }
 },
 "nbformat": 4,
 "nbformat_minor": 5
}
