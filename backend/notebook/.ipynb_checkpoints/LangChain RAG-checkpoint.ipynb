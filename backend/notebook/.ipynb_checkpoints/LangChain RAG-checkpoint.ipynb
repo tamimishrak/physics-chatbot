{
 "cells": [
  {
   "cell_type": "markdown",
   "id": "294adb38-48bb-4a8a-a517-f370df35ef3d",
   "metadata": {},
   "source": [
    "# Importing Libraries"
   ]
  },
  {
   "cell_type": "code",
   "execution_count": 2,
   "id": "2f18acbc-6b58-4073-b088-69bf9a73d709",
   "metadata": {},
   "outputs": [],
   "source": [
    "# deprecated\n",
    "import torch\n",
    "from time import time\n",
    "from langchain_community.llms import Ollama  \n",
    "from langchain.document_loaders import PyPDFLoader\n",
    "from langchain.text_splitter import RecursiveCharacterTextSplitter\n",
    "from langchain.embeddings import HuggingFaceEmbeddings\n",
    "from langchain.chains import RetrievalQA\n",
    "from langchain.vectorstores import Chroma\n",
    "\n",
    "# updated version\n",
    "# import torch\n",
    "# from langchain_community.llms import Ollama\n",
    "# from langchain_community.document_loaders import PyPDFLoader\n",
    "# from langchain.text_splitter import RecursiveCharacterTextSplitter\n",
    "# from langchain_huggingface import HuggingFaceEmbeddings\n",
    "# from langchain.chains import RetrievalQA\n",
    "# from langchain_community.vectorstores import Chroma"
   ]
  },
  {
   "cell_type": "code",
   "execution_count": 3,
   "id": "3409f1bf-1079-4ded-998d-e7adf196fbdb",
   "metadata": {},
   "outputs": [],
   "source": [
    "llm = Ollama(model=\"llama3\")"
   ]
  },
  {
   "cell_type": "code",
   "execution_count": 4,
   "id": "b14d21bb-5809-4f92-a0fa-d290ab8d55de",
   "metadata": {},
   "outputs": [],
   "source": [
    "# Function to test the Ollama model directly\n",
    "def test_model_ollama(model, message):\n",
    "    \"\"\"\n",
    "    Perform a query with the Ollama model and print the result\n",
    "    Args:\n",
    "        model: The Ollama model\n",
    "        message: The prompt\n",
    "    Returns:\n",
    "        str: Question and Answer\n",
    "    \"\"\"    \n",
    "    time_start = time()\n",
    "    response = model.invoke(message)\n",
    "    time_end = time()\n",
    "    total_time = f\"{round(time_end-time_start, 3)} sec.\"\n",
    "    \n",
    "    return f\"Question: {message}\\nAnswer: {response}\\nTotal time: {total_time}\""
   ]
  },
  {
   "cell_type": "code",
   "execution_count": 5,
   "id": "b9d29a18-c9a1-41f0-8a86-af741e7d9c7e",
   "metadata": {},
   "outputs": [],
   "source": [
    "# Test the model query pipeline\n",
    "from IPython.display import display, Markdown\n",
    "\n",
    "def colorize_text(text):\n",
    "    for word, color in zip([\"Reasoning\", \"Question\", \"Answer\", \"Total time\"], [\"blue\", \"red\", \"green\", \"magenta\"]):\n",
    "        text = text.replace(f\"{word}:\", f\"\\n\\n**<font color='{color}'>{word}:</font>**\")\n",
    "    return text"
   ]
  },
  {
   "cell_type": "code",
   "execution_count": 6,
   "id": "c1a6ff9b-8738-4459-a305-d53bcc67c146",
   "metadata": {
    "scrolled": true
   },
   "outputs": [
    {
     "data": {
      "text/markdown": [
       "\n",
       "\n",
       "**<font color='red'>Question:</font>** Please explain what is EU AI Act.\n",
       "\n",
       "\n",
       "**<font color='green'>Answer:</font>** The European Union (EU) Artificial Intelligence (AI) Act, also known as the \"Regulation on a Framework for the Development and Deployment of Artificial Intelligence\" or \"Artificial Intelligence Regulation\", aims to establish a framework for developing, deploying, and using trustworthy artificial intelligence (AI) in the EU. The regulation was adopted by the European Parliament and the Council of the European Union in April 2019.\n",
       "\n",
       "The EU AI Act has several key objectives:\n",
       "\n",
       "1. **Promote Trust**: Ensure that AI systems are transparent, explainable, and accountable.\n",
       "2. **Ensure Safety**: Prevent AI systems from causing harm to people or society.\n",
       "3. **Foster Innovation**: Encourage innovation and investment in AI development while ensuring ethical and societal considerations.\n",
       "\n",
       "To achieve these goals, the EU AI Act sets out:\n",
       "\n",
       "1. **Definition of High-Risk AI Systems**: Identifies certain AI applications (e.g., those related to safety, security, or decision-making) that require specific measures.\n",
       "2. **Risk Assessment and Mitigation**: Requires developers and users to conduct risk assessments and implement measures to mitigate risks associated with AI systems.\n",
       "3. **Transparency and Explainability**: Ensures that AI decisions are transparent and explainable, allowing for human oversight and accountability.\n",
       "4. **Diversity and Non-Discrimination**: Prohibits the use of AI systems that discriminate against individuals or groups based on factors like race, gender, age, etc.\n",
       "5. **Data Protection and Privacy**: Complements existing data protection regulations (GDPR) to ensure the responsible handling of personal data in AI development.\n",
       "6. **Liability and Redress**: Establishes a framework for liability and redress when AI systems cause harm or damage.\n",
       "\n",
       "The EU AI Act also sets out requirements for:\n",
       "\n",
       "1. **AI System Design**: Ensures that AI systems are designed with transparency, explainability, and accountability in mind.\n",
       "2. **Testing and Validation**: Requires the testing and validation of AI systems to ensure they meet safety and performance standards.\n",
       "3. **Training and Education**: Promotes training and education on AI development, deployment, and use.\n",
       "\n",
       "The EU AI Act aims to create a framework for responsible AI development, deployment, and use across various sectors, including industry, healthcare, finance, transportation, and more.\n",
       "\n",
       "Please note that the regulation is still under implementation and some details might change. If you have specific questions or concerns about the EU AI Act, I'd be happy to help!\n",
       "\n",
       "\n",
       "**<font color='magenta'>Total time:</font>** 138.505 sec."
      ],
      "text/plain": [
       "<IPython.core.display.Markdown object>"
      ]
     },
     "metadata": {},
     "output_type": "display_data"
    }
   ],
   "source": [
    "# Test model with some queries\n",
    "response = test_model_ollama(llm, \"Please explain what is EU AI Act.\")\n",
    "display(Markdown(colorize_text(response)))"
   ]
  },
  {
   "cell_type": "code",
   "execution_count": 7,
   "id": "3268c7fe-95ad-43f8-8faa-ed3395dd97cb",
   "metadata": {},
   "outputs": [],
   "source": [
    "# Data ingestion using PDF loader\n",
    "loader = PyPDFLoader(\"pdf/Physics Classes 9-10.pdf\")\n",
    "documents = loader.load()\n",
    "#print(documents)"
   ]
  },
  {
   "cell_type": "code",
   "execution_count": 8,
   "id": "259c8996-1cc5-4481-a807-d1cb0afcdf33",
   "metadata": {},
   "outputs": [],
   "source": [
    "text_splitter = RecursiveCharacterTextSplitter(chunk_size=1000, chunk_overlap=100)\n",
    "all_splits = text_splitter.split_documents(documents)\n",
    "#print(all_splits)"
   ]
  },
  {
   "cell_type": "code",
   "execution_count": 9,
   "id": "4dada10c-1212-4e65-bb47-33035a3d5d83",
   "metadata": {},
   "outputs": [
    {
     "name": "stderr",
     "output_type": "stream",
     "text": [
      "/tmp/ipykernel_9502/1777587059.py:5: LangChainDeprecationWarning: The class `HuggingFaceEmbeddings` was deprecated in LangChain 0.2.2 and will be removed in 1.0. An updated version of the class exists in the langchain-huggingface package and should be used instead. To use it run `pip install -U langchain-huggingface` and import as `from langchain_huggingface import HuggingFaceEmbeddings`.\n",
      "  embeddings = HuggingFaceEmbeddings(\n",
      "/home/tamim-ishrak/.config/jupyterlab-desktop/jlab_server/lib/python3.12/site-packages/sentence_transformers/cross_encoder/CrossEncoder.py:13: TqdmExperimentalWarning: Using `tqdm.autonotebook.tqdm` in notebook mode. Use `tqdm.tqdm` instead to force console mode (e.g. in jupyter console)\n",
      "  from tqdm.autonotebook import tqdm, trange\n",
      "2024-09-14 19:59:18.489858: E external/local_xla/xla/stream_executor/cuda/cuda_fft.cc:485] Unable to register cuFFT factory: Attempting to register factory for plugin cuFFT when one has already been registered\n",
      "2024-09-14 19:59:18.606068: E external/local_xla/xla/stream_executor/cuda/cuda_dnn.cc:8454] Unable to register cuDNN factory: Attempting to register factory for plugin cuDNN when one has already been registered\n",
      "2024-09-14 19:59:18.635348: E external/local_xla/xla/stream_executor/cuda/cuda_blas.cc:1452] Unable to register cuBLAS factory: Attempting to register factory for plugin cuBLAS when one has already been registered\n",
      "2024-09-14 19:59:18.805628: I tensorflow/core/platform/cpu_feature_guard.cc:210] This TensorFlow binary is optimized to use available CPU instructions in performance-critical operations.\n",
      "To enable the following instructions: AVX2 FMA, in other operations, rebuild TensorFlow with the appropriate compiler flags.\n",
      "2024-09-14 19:59:20.557135: W tensorflow/compiler/tf2tensorrt/utils/py_utils.cc:38] TF-TRT Warning: Could not find TensorRT\n",
      "/home/tamim-ishrak/.config/jupyterlab-desktop/jlab_server/lib/python3.12/site-packages/transformers/tokenization_utils_base.py:1601: FutureWarning: `clean_up_tokenization_spaces` was not set. It will be set to `True` by default. This behavior will be depracted in transformers v4.45, and will be then set to `False` by default. For more details check this issue: https://github.com/huggingface/transformers/issues/31884\n",
      "  warnings.warn(\n"
     ]
    },
    {
     "name": "stdout",
     "output_type": "stream",
     "text": [
      "Using device: cpu\n"
     ]
    }
   ],
   "source": [
    "device = \"cuda\" if torch.cuda.is_available() else \"cpu\"\n",
    "model_name = \"sentence-transformers/all-mpnet-base-v2\"\n",
    "model_kwargs = { \"device\": device }\n",
    "\n",
    "embeddings = HuggingFaceEmbeddings(\n",
    "    model_name=model_name,\n",
    "    model_kwargs=model_kwargs\n",
    ")\n",
    "\n",
    "print(f\"Using device: {device}\")"
   ]
  },
  {
   "cell_type": "code",
   "execution_count": 10,
   "id": "636ecde7-949b-46be-9deb-9437976753ce",
   "metadata": {},
   "outputs": [
    {
     "name": "stdout",
     "output_type": "stream",
     "text": [
      "client=SentenceTransformer(\n",
      "  (0): Transformer({'max_seq_length': 384, 'do_lower_case': False}) with Transformer model: MPNetModel \n",
      "  (1): Pooling({'word_embedding_dimension': 768, 'pooling_mode_cls_token': False, 'pooling_mode_mean_tokens': True, 'pooling_mode_max_tokens': False, 'pooling_mode_mean_sqrt_len_tokens': False, 'pooling_mode_weightedmean_tokens': False, 'pooling_mode_lasttoken': False, 'include_prompt': True})\n",
      "  (2): Normalize()\n",
      ") model_name='sentence-transformers/all-mpnet-base-v2' cache_folder=None model_kwargs={'device': 'cpu'} encode_kwargs={} multi_process=False show_progress=False\n"
     ]
    }
   ],
   "source": [
    "print(embeddings)"
   ]
  },
  {
   "cell_type": "code",
   "execution_count": 11,
   "id": "dcc0769c-0d13-4386-b061-c5944f48d687",
   "metadata": {},
   "outputs": [],
   "source": [
    "vectordb = Chroma.from_documents(\n",
    "    documents=all_splits, \n",
    "    embedding=embeddings, persist_directory=\"chroma_db\"\n",
    ")"
   ]
  },
  {
   "cell_type": "code",
   "execution_count": 12,
   "id": "84fbb683-2cd7-480c-a1b0-b33be128885a",
   "metadata": {},
   "outputs": [],
   "source": [
    "retriever = vectordb.as_retriever()\n",
    "qa = RetrievalQA.from_chain_type(\n",
    "    llm=llm, \n",
    "    chain_type=\"stuff\", \n",
    "    retriever=retriever, verbose=True\n",
    ")"
   ]
  },
  {
   "cell_type": "code",
   "execution_count": 13,
   "id": "706d06da-6cc0-4101-b9b3-c4424f419906",
   "metadata": {},
   "outputs": [
    {
     "name": "stderr",
     "output_type": "stream",
     "text": [
      "/tmp/ipykernel_9502/1440859514.py:3: LangChainDeprecationWarning: The method `Chain.run` was deprecated in langchain 0.1.0 and will be removed in 1.0. Use invoke instead.\n",
      "  response = qa.run(query)\n"
     ]
    },
    {
     "name": "stdout",
     "output_type": "stream",
     "text": [
      "\n",
      "\n",
      "\u001b[1m> Entering new RetrievalQA chain...\u001b[0m\n",
      "\n",
      "\u001b[1m> Finished chain.\u001b[0m\n"
     ]
    },
    {
     "data": {
      "text/markdown": [
       "\n",
       "\n",
       "**<font color='red'>Question:</font>** What is force?\n",
       "\n",
       "\n",
       "**<font color='green'>Answer:</font>** According to Newton's first law of motion, a force is that which acting on an object and changes or tends to change the state of the object. In other words, something external must be applied to change the state of a body. This definition suggests that a force is any external cause that can alter the motion or rest of an object.\n",
       "\n",
       "\n",
       "**<font color='magenta'>Total time:</font>** 88.274 sec."
      ],
      "text/plain": [
       "<IPython.core.display.Markdown object>"
      ]
     },
     "metadata": {},
     "output_type": "display_data"
    }
   ],
   "source": [
    "def test_rag(qa, query):\n",
    "    time_start = time()\n",
    "    response = qa.run(query)\n",
    "    time_end = time()\n",
    "    total_time = f\"{round(time_end-time_start, 3)} sec.\"\n",
    "    full_response =  f\"Question: {query}\\nAnswer: {response}\\nTotal time: {total_time}\"\n",
    "    display(Markdown(colorize_text(full_response)))\n",
    "\n",
    "query = \"What is force?\"\n",
    "test_rag(qa, query)"
   ]
  },
  {
   "cell_type": "code",
   "execution_count": 14,
   "id": "218463e5-f7bd-4fa7-bf8f-0234fff244a0",
   "metadata": {},
   "outputs": [
    {
     "name": "stdout",
     "output_type": "stream",
     "text": [
      "\n",
      "\n",
      "\u001b[1m> Entering new RetrievalQA chain...\u001b[0m\n",
      "\n",
      "\u001b[1m> Finished chain.\u001b[0m\n"
     ]
    },
    {
     "data": {
      "text/markdown": [
       "\n",
       "\n",
       "**<font color='red'>Question:</font>** explain me briefly about the electricity formulas\n",
       "\n",
       "\n",
       "**<font color='green'>Answer:</font>** Based on the provided context, here's a brief explanation of the electricity formulas:\n",
       "\n",
       "1. The formula WV Q= represents the energy spent or the amount of energy converted when coulomb charge flows through a conductor.\n",
       "\n",
       "2. Electric current (Q) can be expressed as Q = I t, where I is the current and t is time.\n",
       "\n",
       "3. Ohm's law can be written as VWV I tI R t tR== = 2 Joule, which relates voltage, current, resistance, and energy.\n",
       "\n",
       "4. The formula WV I t= represents the rate at which energy is converted into other forms in an electric device, which is equivalent to power (P).\n",
       "\n",
       "5. Power can be expressed as P = Work done = W = VQ, where V is the potential difference, Q is the charge, and W is the work done.\n",
       "\n",
       "These formulas are used to describe the relationships between voltage, current, resistance, energy, and power in electric circuits.\n",
       "\n",
       "\n",
       "**<font color='magenta'>Total time:</font>** 129.593 sec."
      ],
      "text/plain": [
       "<IPython.core.display.Markdown object>"
      ]
     },
     "metadata": {},
     "output_type": "display_data"
    }
   ],
   "source": [
    "query = \"explain me briefly about the electricity formulas\"\n",
    "test_rag(qa, query)"
   ]
  },
  {
   "cell_type": "code",
   "execution_count": 15,
   "id": "467435c2-d4de-4619-921b-fb2fb0c0168b",
   "metadata": {},
   "outputs": [
    {
     "name": "stdout",
     "output_type": "stream",
     "text": [
      "Query: explain me briefly about the electricity formulas\n",
      "Retrieved documents: 4\n",
      "Source:  pdf/Physics Classes 9-10.pdf\n",
      "Text:  coulomb charge flows through the conductor, the amount of work done =  VQ joule. \n",
      "Therefore, energy spent or the amount of energy converted is                                                          \n",
      "WV Q=  \n",
      "Again, electric current,                   QIt=  \n",
      "                                                   or, QI t= \n",
      "                                                 ∴  WV I t=                                (11.11) \n",
      "Using ohm’s law this relationship can be expressed as below, \n",
      "                             ∴    2\n",
      "2 VWV I tI R t tR== =   Joule                       (11.12) \n",
      "Electric power \n",
      "The electric appliances which we use in houses or in offices are generally marked with \n",
      "the voltage by which it runs and the electric power in watt. We know the rate of work \n",
      "done or the rate of energy conversion is called power. Therefore, the rate at which energy is converted into other forms in an electric device is its power.  \n",
      "                           Therefore, power = Work done \n",
      "\n",
      "Source:  pdf/Physics Classes 9-10.pdf\n",
      "Text:  coulomb charge flows through the conductor, the amount of work done =  VQ joule. \n",
      "Therefore, energy spent or the amount of energy converted is                                                          \n",
      "WV Q=  \n",
      "Again, electric current,                   QIt=  \n",
      "                                                   or, QI t= \n",
      "                                                 ∴  WV I t=                                (11.11) \n",
      "Using ohm’s law this relationship can be expressed as below, \n",
      "                             ∴    2\n",
      "2 VWV I tI R t tR== =   Joule                       (11.12) \n",
      "Electric power \n",
      "The electric appliances which we use in houses or in offices are generally marked with \n",
      "the voltage by which it runs and the electric power in watt. We know the rate of work \n",
      "done or the rate of energy conversion is called power. Therefore, the rate at which energy is converted into other forms in an electric device is its power.  \n",
      "                           Therefore, power = Work done \n",
      "\n",
      "Source:  pdf/Physics Classes 9-10.pdf\n",
      "Text:  Physics  189 \n",
      "                   = 1 21\n",
      "10−+Ω \n",
      "                   =1 3\n",
      "10−Ω \n",
      "              RP = 3.33 Ω  \n",
      "Answer: RS = 15 Ω  and RP = 3.33 Ω  \n",
      "11.12 Electric power \n",
      "When a potential difference is applied betw een the two terminals of a conductor, an \n",
      "electric current is set up. Due to this, work is  done and the electrons acquire energy. This \n",
      "electrical energy may be transformed into different forms of energy (e.g.- heat, light, \n",
      "mechanical energy etc.) according to the nature of the circuit.  \n",
      " \n",
      "Figure 11.13 \n",
      "Say, AB is a conductor of resistance R and Q amount of charge is flowing through it. \n",
      "The potential difference between the points A and B is V. We know, if the potential \n",
      "difference between the two terminals of a conductor is 1 volt and 1 coulomb charge flows through it, then the amount of work done or energy spent is 1joule.  Now, if Q \n",
      "coulomb charge flows through the conductor, the amount of work done =  VQ joule. \n",
      "\n",
      "Source:  pdf/Physics Classes 9-10.pdf\n",
      "Text:  Physics  189 \n",
      "                   = 1 21\n",
      "10−+Ω \n",
      "                   =1 3\n",
      "10−Ω \n",
      "              RP = 3.33 Ω  \n",
      "Answer: RS = 15 Ω  and RP = 3.33 Ω  \n",
      "11.12 Electric power \n",
      "When a potential difference is applied betw een the two terminals of a conductor, an \n",
      "electric current is set up. Due to this, work is  done and the electrons acquire energy. This \n",
      "electrical energy may be transformed into different forms of energy (e.g.- heat, light, \n",
      "mechanical energy etc.) according to the nature of the circuit.  \n",
      " \n",
      "Figure 11.13 \n",
      "Say, AB is a conductor of resistance R and Q amount of charge is flowing through it. \n",
      "The potential difference between the points A and B is V. We know, if the potential \n",
      "difference between the two terminals of a conductor is 1 volt and 1 coulomb charge flows through it, then the amount of work done or energy spent is 1joule.  Now, if Q \n",
      "coulomb charge flows through the conductor, the amount of work done =  VQ joule. \n",
      "\n"
     ]
    }
   ],
   "source": [
    "# Retrieve the document sources for the query\n",
    "docs = vectordb.similarity_search(query)\n",
    "print(f\"Query: {query}\")\n",
    "print(f\"Retrieved documents: {len(docs)}\")\n",
    "for doc in docs:\n",
    "    doc_details = doc.to_json()['kwargs']\n",
    "    print(\"Source: \", doc_details['metadata']['source'])\n",
    "    print(\"Text: \", doc_details['page_content'], \"\\n\")"
   ]
  }
 ],
 "metadata": {
  "kernelspec": {
   "display_name": "Python 3 (ipykernel)",
   "language": "python",
   "name": "python3"
  },
  "language_info": {
   "codemirror_mode": {
    "name": "ipython",
    "version": 3
   },
   "file_extension": ".py",
   "mimetype": "text/x-python",
   "name": "python",
   "nbconvert_exporter": "python",
   "pygments_lexer": "ipython3",
   "version": "3.12.3"
  }
 },
 "nbformat": 4,
 "nbformat_minor": 5
}
